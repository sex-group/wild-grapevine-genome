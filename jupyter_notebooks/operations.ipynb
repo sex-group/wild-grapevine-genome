{
 "cells": [
  {
   "cell_type": "markdown",
   "metadata": {},
   "source": [
    "# Wild Genome\n",
    "\n",
    "2019.03.14\n",
    "\n",
    "## Handling SNPs\n",
    "\n",
    "(reproduced from R)\n",
    "\n"
   ]
  },
  {
   "cell_type": "code",
   "execution_count": 1,
   "metadata": {},
   "outputs": [],
   "source": [
    "%matplotlib inline\n",
    "import numpy as np\n",
    "import pandas as pd"
   ]
  },
  {
   "cell_type": "markdown",
   "metadata": {},
   "source": [
    "### Load files\n",
    "\n",
    "**DO NOT RUN THIS AGAIN**\n",
    "Check below, the loading of all_pass_snps.tsv"
   ]
  },
  {
   "cell_type": "code",
   "execution_count": 2,
   "metadata": {},
   "outputs": [],
   "source": [
    "female = pd.read_csv('Female.snps.tsv',\n",
    "                     sep = '\\t'\n",
    "                    )\n",
    "\n",
    "male = pd.read_csv('Male.snps.tsv',\n",
    "                   sep = '\\t'\n",
    "                  )"
   ]
  },
  {
   "cell_type": "code",
   "execution_count": 3,
   "metadata": {},
   "outputs": [],
   "source": [
    "female_pass = female[female['FILTER'] == 'PASS']\n",
    "male_pass = male[male['FILTER'] == 'PASS']"
   ]
  },
  {
   "cell_type": "code",
   "execution_count": 4,
   "metadata": {},
   "outputs": [
    {
     "name": "stderr",
     "output_type": "stream",
     "text": [
      "/home/mramos/anaconda3/lib/python3.7/site-packages/ipykernel_launcher.py:1: SettingWithCopyWarning: \n",
      "A value is trying to be set on a copy of a slice from a DataFrame.\n",
      "Try using .loc[row_indexer,col_indexer] = value instead\n",
      "\n",
      "See the caveats in the documentation: https://pandas.pydata.org/pandas-docs/stable/user_guide/indexing.html#returning-a-view-versus-a-copy\n",
      "  \"\"\"Entry point for launching an IPython kernel.\n",
      "/home/mramos/anaconda3/lib/python3.7/site-packages/ipykernel_launcher.py:2: SettingWithCopyWarning: \n",
      "A value is trying to be set on a copy of a slice from a DataFrame.\n",
      "Try using .loc[row_indexer,col_indexer] = value instead\n",
      "\n",
      "See the caveats in the documentation: https://pandas.pydata.org/pandas-docs/stable/user_guide/indexing.html#returning-a-view-versus-a-copy\n",
      "  \n"
     ]
    }
   ],
   "source": [
    "female_pass['sex'] = 'Female'\n",
    "male_pass['sex'] = 'Male'"
   ]
  },
  {
   "cell_type": "code",
   "execution_count": 5,
   "metadata": {},
   "outputs": [],
   "source": [
    "columns = ['CHROMOSOME', 'POSITION', 'DBSNP ID', 'REFERENCE BASE', 'OBSERVED BASE',\n",
    "       'QUALITY SCORE', 'FILTER', 'QD', 'A,C,G,T', 'COVERAGE',\n",
    "       'AMINO ACID CHANGE', 'CODON CHANGE', 'EFFECT', 'EXON ID',\n",
    "       'FUNCTIONAL CLASS', 'GENE NAME', 'IMPACT', 'TRANSCRIPT ID',\n",
    "       'GENOTYPE', 'GQ', 'ALLELE DEPTH',\n",
    "       'ALLELE BALANCE', 'COVERAGE', 'SEX']\n",
    "\n",
    "female_pass.columns = columns\n",
    "male_pass.columns = columns"
   ]
  },
  {
   "cell_type": "code",
   "execution_count": 6,
   "metadata": {},
   "outputs": [
    {
     "data": {
      "text/plain": [
       "(12772171, 24)"
      ]
     },
     "execution_count": 6,
     "metadata": {},
     "output_type": "execute_result"
    }
   ],
   "source": [
    "snps = pd.concat([female_pass, male_pass],\n",
    "                 ignore_index = True\n",
    "                )\n",
    "\n",
    "snps.shape"
   ]
  },
  {
   "cell_type": "code",
   "execution_count": 7,
   "metadata": {},
   "outputs": [],
   "source": [
    "del female\n",
    "del female_pass\n",
    "\n",
    "del male\n",
    "del male_pass"
   ]
  },
  {
   "cell_type": "code",
   "execution_count": 8,
   "metadata": {},
   "outputs": [],
   "source": [
    "snps.to_csv('all_pass_snps.tsv',\n",
    "            sep = '\\t',\n",
    "            index = False\n",
    "           )"
   ]
  },
  {
   "cell_type": "markdown",
   "metadata": {},
   "source": [
    "## Loading all_pass_snps.tsv"
   ]
  },
  {
   "cell_type": "code",
   "execution_count": 9,
   "metadata": {},
   "outputs": [],
   "source": [
    "snps = pd.read_csv('all_pass_snps.tsv',\n",
    "                   sep = '\\t'\n",
    "                  )\n",
    "\n",
    "# snps.head()"
   ]
  },
  {
   "cell_type": "markdown",
   "metadata": {},
   "source": [
    "### Number of SNPs"
   ]
  },
  {
   "cell_type": "code",
   "execution_count": 10,
   "metadata": {},
   "outputs": [
    {
     "data": {
      "text/plain": [
       "Male      6575026\n",
       "Female    6197145\n",
       "Name: SEX, dtype: int64"
      ]
     },
     "execution_count": 10,
     "metadata": {},
     "output_type": "execute_result"
    }
   ],
   "source": [
    "snps['SEX'].value_counts()"
   ]
  },
  {
   "cell_type": "markdown",
   "metadata": {},
   "source": [
    "### Number of SNPs per Chromosome"
   ]
  },
  {
   "cell_type": "code",
   "execution_count": 11,
   "metadata": {},
   "outputs": [],
   "source": [
    "snps_chromosome = pd.crosstab(snps['CHROMOSOME'], snps['SEX'])\n",
    "# snps_chromosome.head()"
   ]
  },
  {
   "cell_type": "code",
   "execution_count": 12,
   "metadata": {},
   "outputs": [],
   "source": [
    "chromosome_length = {'chr1': 23037639,\n",
    "                     'chr2': 18779844,\n",
    "                     'chr3': 19341862,\n",
    "                     'chr4': 23867706,\n",
    "                     'chr5': 25021643,\n",
    "                     'chr6': 21508407,\n",
    "                     'chr7': 21026613,\n",
    "                     'chr8': 22385789,\n",
    "                     'chr9': 23006712,\n",
    "                     'chr10': 18140952,\n",
    "                     'chr11': 19818926,\n",
    "                     'chr12': 22702307,\n",
    "                     'chr13': 24396255,\n",
    "                     'chr14': 30274277,\n",
    "                     'chr15': 20304914,\n",
    "                     'chr16': 22053297,\n",
    "                     'chr17': 17126926,\n",
    "                     'chr18': 29360087,\n",
    "                     'chr19': 24021853,\n",
    "                     'chr1_random': 568933,\n",
    "                     'chr3_random': 1220746,\n",
    "                     'chr4_random': 76237,\n",
    "                     'chr5_random': 421237,\n",
    "                     'chr7_random': 1447032,\n",
    "                     'chr9_random': 487831,\n",
    "                     'chr10_random': 789605,\n",
    "                     'chr11_random': 282498,\n",
    "                     'chr12_random': 1566225,\n",
    "                     'chr13_random': 3268264,\n",
    "                     'chr16_random': 740079,\n",
    "                     'chr17_random': 829735,\n",
    "                     'chr18_random': 5170003,\n",
    "                     'chrUn': 43220988\n",
    "                    }"
   ]
  },
  {
   "cell_type": "code",
   "execution_count": 13,
   "metadata": {},
   "outputs": [],
   "source": [
    "snps_chromosome['ChrLen'] = snps_chromosome.index.map(chromosome_length)\n",
    "# snps_chromosome.head()"
   ]
  },
  {
   "cell_type": "code",
   "execution_count": 14,
   "metadata": {},
   "outputs": [],
   "source": [
    "snps_chromosome['Female_Frequency'] = snps_chromosome['Female'] / snps_chromosome['ChrLen']\n",
    "snps_chromosome['Male_Frequency'] = snps_chromosome['Male'] / snps_chromosome['ChrLen']\n",
    "# snps_chromosome.head()"
   ]
  },
  {
   "cell_type": "code",
   "execution_count": 15,
   "metadata": {},
   "outputs": [
    {
     "data": {
      "text/plain": [
       "Text(0, 0.5, 'Ocurrences per Chr size')"
      ]
     },
     "execution_count": 15,
     "metadata": {},
     "output_type": "execute_result"
    },
    {
     "data": {
      "image/png": "[encoded data removed]",
      "text/plain": [
       "<Figure size 720x432 with 1 Axes>"
      ]
     },
     "metadata": {
      "needs_background": "light"
     },
     "output_type": "display_data"
    }
   ],
   "source": [
    "snps_female_freq = snps_chromosome.reset_index().sort_values(by = 'Female_Frequency', ascending = False)\n",
    "\n",
    "q1, q3= np.percentile(snps_female_freq['Female_Frequency'], [25,75])\n",
    "\n",
    "lower_bound = q1 - (1.5 * (q3 - q1)) \n",
    "upper_bound = q3 + (1.5 * (q3 - q1)) \n",
    "\n",
    "ax = snps_female_freq.plot(\n",
    "    x = 'CHROMOSOME',\n",
    "    y = ['Female_Frequency'],\n",
    "    kind = 'bar',\n",
    "    figsize = (10, 6)\n",
    ")\n",
    "\n",
    "ax.axhline(y = lower_bound, color = 'black')\n",
    "ax.axhline(y = upper_bound, color = 'red')\n",
    "\n",
    "ax.set_xlabel('Chromosome')\n",
    "ax.set_ylabel('Ocurrences per Chr size')"
   ]
  },
  {
   "cell_type": "code",
   "execution_count": 16,
   "metadata": {},
   "outputs": [
    {
     "data": {
      "text/html": [
       "<div>\n",
       "<style scoped>\n",
       "    .dataframe tbody tr th:only-of-type {\n",
       "        vertical-align: middle;\n",
       "    }\n",
       "\n",
       "    .dataframe tbody tr th {\n",
       "        vertical-align: top;\n",
       "    }\n",
       "\n",
       "    .dataframe thead th {\n",
       "        text-align: right;\n",
       "    }\n",
       "</style>\n",
       "<table border=\"1\" class=\"dataframe\">\n",
       "  <thead>\n",
       "    <tr style=\"text-align: right;\">\n",
       "      <th>SEX</th>\n",
       "      <th>CHROMOSOME</th>\n",
       "      <th>Female</th>\n",
       "      <th>Male</th>\n",
       "      <th>ChrLen</th>\n",
       "      <th>Female_Frequency</th>\n",
       "      <th>Male_Frequency</th>\n",
       "    </tr>\n",
       "  </thead>\n",
       "  <tbody>\n",
       "    <tr>\n",
       "      <th>31</th>\n",
       "      <td>chr9_random</td>\n",
       "      <td>10058</td>\n",
       "      <td>11870</td>\n",
       "      <td>487831</td>\n",
       "      <td>0.020618</td>\n",
       "      <td>0.024332</td>\n",
       "    </tr>\n",
       "    <tr>\n",
       "      <th>12</th>\n",
       "      <td>chr16_random</td>\n",
       "      <td>2565</td>\n",
       "      <td>1575</td>\n",
       "      <td>740079</td>\n",
       "      <td>0.003466</td>\n",
       "      <td>0.002128</td>\n",
       "    </tr>\n",
       "  </tbody>\n",
       "</table>\n",
       "</div>"
      ],
      "text/plain": [
       "SEX    CHROMOSOME  Female   Male  ChrLen  Female_Frequency  Male_Frequency\n",
       "31    chr9_random   10058  11870  487831          0.020618        0.024332\n",
       "12   chr16_random    2565   1575  740079          0.003466        0.002128"
      ]
     },
     "execution_count": 16,
     "metadata": {},
     "output_type": "execute_result"
    }
   ],
   "source": [
    "snps_female_freq[(snps_female_freq['Female_Frequency'] > upper_bound)\n",
    "                 | (snps_female_freq['Female_Frequency'] < lower_bound)\n",
    "                ]"
   ]
  },
  {
   "cell_type": "code",
   "execution_count": 17,
   "metadata": {},
   "outputs": [
    {
     "data": {
      "text/plain": [
       "Text(0, 0.5, 'Ocurrences per Chr size')"
      ]
     },
     "execution_count": 17,
     "metadata": {},
     "output_type": "execute_result"
    },
    {
     "data": {
      "image/png": "[encoded data removed]",
      "text/plain": [
       "<Figure size 720x432 with 1 Axes>"
      ]
     },
     "metadata": {
      "needs_background": "light"
     },
     "output_type": "display_data"
    }
   ],
   "source": [
    "snps_male_freq = snps_chromosome.reset_index().sort_values(by = 'Male_Frequency', ascending = False)\n",
    "\n",
    "q1, q3= np.percentile(snps_male_freq['Male_Frequency'], [25,75])\n",
    "\n",
    "lower_bound = q1 - (1.5 * (q3 - q1)) \n",
    "upper_bound = q3 + (1.5 * (q3 - q1)) \n",
    "\n",
    "ax = snps_male_freq.plot(\n",
    "    x = 'CHROMOSOME',\n",
    "    y = ['Male_Frequency'],\n",
    "    kind = 'bar',\n",
    "    figsize = (10, 6)\n",
    ")\n",
    "\n",
    "ax.axhline(y = lower_bound, color = 'black')\n",
    "ax.axhline(y = upper_bound, color = 'red')\n",
    "\n",
    "ax.set_xlabel('Chromosome')\n",
    "ax.set_ylabel('Ocurrences per Chr size')"
   ]
  },
  {
   "cell_type": "code",
   "execution_count": 18,
   "metadata": {},
   "outputs": [
    {
     "data": {
      "text/html": [
       "<div>\n",
       "<style scoped>\n",
       "    .dataframe tbody tr th:only-of-type {\n",
       "        vertical-align: middle;\n",
       "    }\n",
       "\n",
       "    .dataframe tbody tr th {\n",
       "        vertical-align: top;\n",
       "    }\n",
       "\n",
       "    .dataframe thead th {\n",
       "        text-align: right;\n",
       "    }\n",
       "</style>\n",
       "<table border=\"1\" class=\"dataframe\">\n",
       "  <thead>\n",
       "    <tr style=\"text-align: right;\">\n",
       "      <th>SEX</th>\n",
       "      <th>CHROMOSOME</th>\n",
       "      <th>Female</th>\n",
       "      <th>Male</th>\n",
       "      <th>ChrLen</th>\n",
       "      <th>Female_Frequency</th>\n",
       "      <th>Male_Frequency</th>\n",
       "    </tr>\n",
       "  </thead>\n",
       "  <tbody>\n",
       "    <tr>\n",
       "      <th>31</th>\n",
       "      <td>chr9_random</td>\n",
       "      <td>10058</td>\n",
       "      <td>11870</td>\n",
       "      <td>487831</td>\n",
       "      <td>0.020618</td>\n",
       "      <td>0.024332</td>\n",
       "    </tr>\n",
       "    <tr>\n",
       "      <th>12</th>\n",
       "      <td>chr16_random</td>\n",
       "      <td>2565</td>\n",
       "      <td>1575</td>\n",
       "      <td>740079</td>\n",
       "      <td>0.003466</td>\n",
       "      <td>0.002128</td>\n",
       "    </tr>\n",
       "  </tbody>\n",
       "</table>\n",
       "</div>"
      ],
      "text/plain": [
       "SEX    CHROMOSOME  Female   Male  ChrLen  Female_Frequency  Male_Frequency\n",
       "31    chr9_random   10058  11870  487831          0.020618        0.024332\n",
       "12   chr16_random    2565   1575  740079          0.003466        0.002128"
      ]
     },
     "execution_count": 18,
     "metadata": {},
     "output_type": "execute_result"
    }
   ],
   "source": [
    "snps_male_freq[(snps_male_freq['Male_Frequency'] > upper_bound)\n",
    "               | (snps_male_freq['Male_Frequency'] < lower_bound)\n",
    "              ]"
   ]
  },
  {
   "cell_type": "markdown",
   "metadata": {},
   "source": [
    "### Considering Fold Change (female/male)"
   ]
  },
  {
   "cell_type": "code",
   "execution_count": 19,
   "metadata": {},
   "outputs": [],
   "source": [
    "snps_chromosome['fold_change'] = snps_chromosome['Female'] / snps_chromosome['Male']\n",
    "snps_chromosome['fold_change_log2'] = np.log2(snps_chromosome['fold_change'])\n",
    "# snps_chromosome.head()"
   ]
  },
  {
   "cell_type": "code",
   "execution_count": 20,
   "metadata": {},
   "outputs": [
    {
     "data": {
      "text/plain": [
       "Text(0, 0.5, 'Log2(Female / Male)')"
      ]
     },
     "execution_count": 20,
     "metadata": {},
     "output_type": "execute_result"
    },
    {
     "data": {
      "image/png": "[encoded data removed]",
      "text/plain": [
       "<Figure size 720x432 with 1 Axes>"
      ]
     },
     "metadata": {
      "needs_background": "light"
     },
     "output_type": "display_data"
    }
   ],
   "source": [
    "snps_fold_change = snps_chromosome.reset_index().sort_values(by = 'fold_change_log2', ascending = False)\n",
    "\n",
    "q1, q3= np.percentile(snps_fold_change['fold_change_log2'], [25,75])\n",
    "\n",
    "lower_bound = q1 - (1.5 * (q3 - q1)) \n",
    "upper_bound = q3 + (1.5 * (q3 - q1)) \n",
    "\n",
    "ax = snps_fold_change.plot(\n",
    "    x = 'CHROMOSOME',\n",
    "    y = ['fold_change_log2'],\n",
    "    kind = 'bar',\n",
    "    figsize = (10, 6)\n",
    ")\n",
    "\n",
    "ax.axhline(y = lower_bound, color = 'black')\n",
    "ax.axhline(y = upper_bound, color = 'red')\n",
    "\n",
    "ax.set_xlabel('Chromosome')\n",
    "ax.set_ylabel('Log2(Female / Male)')"
   ]
  },
  {
   "cell_type": "code",
   "execution_count": 21,
   "metadata": {},
   "outputs": [
    {
     "data": {
      "text/html": [
       "<div>\n",
       "<style scoped>\n",
       "    .dataframe tbody tr th:only-of-type {\n",
       "        vertical-align: middle;\n",
       "    }\n",
       "\n",
       "    .dataframe tbody tr th {\n",
       "        vertical-align: top;\n",
       "    }\n",
       "\n",
       "    .dataframe thead th {\n",
       "        text-align: right;\n",
       "    }\n",
       "</style>\n",
       "<table border=\"1\" class=\"dataframe\">\n",
       "  <thead>\n",
       "    <tr style=\"text-align: right;\">\n",
       "      <th>SEX</th>\n",
       "      <th>CHROMOSOME</th>\n",
       "      <th>Female</th>\n",
       "      <th>Male</th>\n",
       "      <th>ChrLen</th>\n",
       "      <th>Female_Frequency</th>\n",
       "      <th>Male_Frequency</th>\n",
       "      <th>fold_change</th>\n",
       "      <th>fold_change_log2</th>\n",
       "    </tr>\n",
       "  </thead>\n",
       "  <tbody>\n",
       "    <tr>\n",
       "      <th>21</th>\n",
       "      <td>chr3_random</td>\n",
       "      <td>16825</td>\n",
       "      <td>9680</td>\n",
       "      <td>1220746</td>\n",
       "      <td>0.013783</td>\n",
       "      <td>0.007930</td>\n",
       "      <td>1.738120</td>\n",
       "      <td>0.797528</td>\n",
       "    </tr>\n",
       "    <tr>\n",
       "      <th>12</th>\n",
       "      <td>chr16_random</td>\n",
       "      <td>2565</td>\n",
       "      <td>1575</td>\n",
       "      <td>740079</td>\n",
       "      <td>0.003466</td>\n",
       "      <td>0.002128</td>\n",
       "      <td>1.628571</td>\n",
       "      <td>0.703607</td>\n",
       "    </tr>\n",
       "    <tr>\n",
       "      <th>4</th>\n",
       "      <td>chr11_random</td>\n",
       "      <td>3162</td>\n",
       "      <td>2147</td>\n",
       "      <td>282498</td>\n",
       "      <td>0.011193</td>\n",
       "      <td>0.007600</td>\n",
       "      <td>1.472753</td>\n",
       "      <td>0.558515</td>\n",
       "    </tr>\n",
       "    <tr>\n",
       "      <th>14</th>\n",
       "      <td>chr17_random</td>\n",
       "      <td>14029</td>\n",
       "      <td>10043</td>\n",
       "      <td>829735</td>\n",
       "      <td>0.016908</td>\n",
       "      <td>0.012104</td>\n",
       "      <td>1.396893</td>\n",
       "      <td>0.482222</td>\n",
       "    </tr>\n",
       "    <tr>\n",
       "      <th>8</th>\n",
       "      <td>chr13_random</td>\n",
       "      <td>46630</td>\n",
       "      <td>34602</td>\n",
       "      <td>3268264</td>\n",
       "      <td>0.014268</td>\n",
       "      <td>0.010587</td>\n",
       "      <td>1.347610</td>\n",
       "      <td>0.430403</td>\n",
       "    </tr>\n",
       "    <tr>\n",
       "      <th>25</th>\n",
       "      <td>chr5_random</td>\n",
       "      <td>4965</td>\n",
       "      <td>8141</td>\n",
       "      <td>421237</td>\n",
       "      <td>0.011787</td>\n",
       "      <td>0.019326</td>\n",
       "      <td>0.609876</td>\n",
       "      <td>-0.713412</td>\n",
       "    </tr>\n",
       "  </tbody>\n",
       "</table>\n",
       "</div>"
      ],
      "text/plain": [
       "SEX    CHROMOSOME  Female   Male   ChrLen  Female_Frequency  Male_Frequency  \\\n",
       "21    chr3_random   16825   9680  1220746          0.013783        0.007930   \n",
       "12   chr16_random    2565   1575   740079          0.003466        0.002128   \n",
       "4    chr11_random    3162   2147   282498          0.011193        0.007600   \n",
       "14   chr17_random   14029  10043   829735          0.016908        0.012104   \n",
       "8    chr13_random   46630  34602  3268264          0.014268        0.010587   \n",
       "25    chr5_random    4965   8141   421237          0.011787        0.019326   \n",
       "\n",
       "SEX  fold_change  fold_change_log2  \n",
       "21      1.738120          0.797528  \n",
       "12      1.628571          0.703607  \n",
       "4       1.472753          0.558515  \n",
       "14      1.396893          0.482222  \n",
       "8       1.347610          0.430403  \n",
       "25      0.609876         -0.713412  "
      ]
     },
     "execution_count": 21,
     "metadata": {},
     "output_type": "execute_result"
    }
   ],
   "source": [
    "snps_fold_change[(snps_fold_change['fold_change_log2'] > upper_bound)\n",
    "                 | (snps_fold_change['fold_change_log2'] < lower_bound)\n",
    "                ]"
   ]
  },
  {
   "cell_type": "code",
   "execution_count": 22,
   "metadata": {},
   "outputs": [
    {
     "data": {
      "text/plain": [
       "18"
      ]
     },
     "execution_count": 22,
     "metadata": {},
     "output_type": "execute_result"
    }
   ],
   "source": [
    "len(snps[(snps['SEX'] == 'Female')\n",
    "         & (snps['CHROMOSOME'] == 'chr1')\n",
    "         & (snps['POSITION'] >= 1)\n",
    "         & (snps['POSITION'] < 1000)\n",
    "        ].index)"
   ]
  }
 ],
 "metadata": {
  "kernelspec": {
   "display_name": "Python 3",
   "language": "python",
   "name": "python3"
  },
  "language_info": {
   "codemirror_mode": {
    "name": "ipython",
    "version": 3
   },
   "file_extension": ".py",
   "mimetype": "text/x-python",
   "name": "python",
   "nbconvert_exporter": "python",
   "pygments_lexer": "ipython3",
   "version": "3.7.6"
  }
 },
 "nbformat": 4,
 "nbformat_minor": 4
}
